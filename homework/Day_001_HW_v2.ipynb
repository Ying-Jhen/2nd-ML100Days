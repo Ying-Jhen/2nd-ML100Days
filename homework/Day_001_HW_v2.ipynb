{
 "cells": [
  {
   "cell_type": "markdown",
   "metadata": {},
   "source": [
    "## 作業1：\n",
    "\n",
    "### 請上 Kaggle, 在 Competitions 或 Dataset 中找一組競賽或資料並寫下：\n",
    "\n",
    "選擇的題目：TMDB Box Office Predictio\n",
    "\n",
    "### 1. 你選的這組資料為何重要\n",
    "\n",
    "    影響電影票房的因素很多，若能夠有效找出影響電影票房的因素（導演、預算、預告片、演員，...），也許可以締造出合理範圍內的低成本但高收入的電影。\n",
    "\n",
    "### 2.  資料從何而來 (tips: 譬如提供者是誰、以什麼方式蒐集)\n",
    "    提供者：TMDB\n",
    "    資料搜集方式：從TMDB OPEN API蒐集\n",
    "\n",
    "### 3.  蒐集而來的資料型態為何\n",
    "     test.csv和train.csv有些電影相關的資訊，欄位內容，例如：  id(數字，primary key) 和 belongs_to_collection(陣列)、original_title(字串)...等。\n",
    "\n",
    "### 4.  這組資料想解決的問題如何評估\n",
    "     先找出有顯著影響票房收入（revenue）的變數，再進一步將顯著的變數跑迴歸分析(可以看 R-square 和 MSE )"
   ]
  },
  {
   "cell_type": "markdown",
   "metadata": {},
   "source": [
    "## 作業2：\n",
    "\n",
    "### 想像你經營一個自由載客車隊，你希望能透過數據分析以提升業績，請你思考並描述你如何規劃整體的分析/解決方案：\n",
    "\n",
    "### 1. 核心問題為何 (tips：如何定義 「提升業績 & 你的假設」)\n",
    "            假設：讓車隊有限的車輛可以提升有效益的載客次數，則可以提升業績。\n",
    "\n",
    "### 2. 資料從何而來 (tips：哪些資料可能會對你想問的問題產生影響 & 資料如何蒐集)\n",
    "             需要最近3個月（若有更長的資料當然更好）每台車每天每趟的載客起始地點與時間、終點地點與時間、收費、里程數、司機的語言能力(若會其他語言外國，則可以提供國外旅客的包車服務，定價就可以訂高一點)、是否包車、乘客類型（國內、國外、混合）、乘客目的（旅遊、工作、因為下雨不想騎車，...）。\n",
    "             資料蒐集：若乘客用app訂車，則司機可以利用app紀錄乘客類型、乘客目的、是否包車，再蒐集跳表機器紀錄的每趟載客起始地點與時間、終點地點與時間、收費、里程數\n",
    "\n",
    "### 3. 蒐集而來的資料型態為何\n",
    "            字串：起始地點、終點地點、司機的語言能力、乘客類型、乘客目的\n",
    "            時間：起始時間、終點時間\n",
    "            數值：收費、里程數、是否包車（1表示包車；0表示沒有包車）\n",
    "\n",
    "### 4. 你要回答的問題，其如何評估 (tips：你的假設如何驗證)\n",
    "             先找出有顯著影響載客次數與收益的（revenue）的變數，再進一步將顯著的變數跑迴歸分析(可以看 R-square 和 MSE )"
   ]
  },
  {
   "cell_type": "markdown",
   "metadata": {},
   "source": [
    "## 練習時間\n",
    "#### 請寫一個函式用來計算 Mean Square Error\n",
    "$ MSE = \\frac{1}{n}\\sum_{i=1}^{n}{(Y_i - \\hat{Y}_i)^2} $\n",
    "\n",
    "### Hint: [如何取平方](https://googoodesign.gitbooks.io/-ezpython/unit-1.html)"
   ]
  },
  {
   "cell_type": "code",
   "execution_count": 1,
   "metadata": {},
   "outputs": [],
   "source": [
    "import numpy as np\n",
    "import matplotlib.pyplot as plt"
   ]
  },
  {
   "cell_type": "code",
   "execution_count": 2,
   "metadata": {},
   "outputs": [],
   "source": [
    "def mean_absolute_error(y, yp):\n",
    "    \"\"\"\n",
    "    計算 MAE\n",
    "    Args:\n",
    "        - y: 實際值\n",
    "        - yp: 預測值\n",
    "    Return:\n",
    "        - mae: MAE\n",
    "    \"\"\"\n",
    "    mae = sum(abs(y - yp)) / len(y)\n",
    "    return mae"
   ]
  },
  {
   "cell_type": "code",
   "execution_count": 3,
   "metadata": {},
   "outputs": [],
   "source": [
    "def mean_squared_error(y, yp):\n",
    "    \"\"\"\n",
    "    請完成這個 Function 後往下執行\n",
    "    \"\"\"\n",
    "    mse = sum((y-yp)**2) / len(y)\n",
    "    return mse"
   ]
  },
  {
   "cell_type": "code",
   "execution_count": 4,
   "metadata": {},
   "outputs": [
    {
     "data": {
      "image/png": "[encoded data removed]",
      "text/plain": [
       "<Figure size 432x288 with 1 Axes>"
      ]
     },
     "metadata": {},
     "output_type": "display_data"
    }
   ],
   "source": [
    "w = 3\n",
    "b = 0.5\n",
    "\n",
    "x_lin = np.linspace(0, 100, 101)\n",
    "\n",
    "y = (x_lin + np.random.randn(101) * 5) * w + b\n",
    "\n",
    "plt.plot(x_lin, y, 'b.', label = 'data points')\n",
    "plt.title(\"Assume we have data points\")\n",
    "plt.legend(loc = 2)\n",
    "plt.show()"
   ]
  },
  {
   "cell_type": "code",
   "execution_count": 5,
   "metadata": {
    "scrolled": true
   },
   "outputs": [
    {
     "data": {
      "image/png": "[encoded data removed]",
      "text/plain": [
       "<Figure size 432x288 with 1 Axes>"
      ]
     },
     "metadata": {},
     "output_type": "display_data"
    }
   ],
   "source": [
    "y_hat = x_lin * w + b\n",
    "plt.plot(x_lin, y, 'b.', label = 'data')\n",
    "plt.plot(x_lin, y_hat, 'r-', label = 'prediction')\n",
    "plt.title(\"Assume we have data points (And the prediction)\")\n",
    "plt.legend(loc = 2)\n",
    "plt.show()"
   ]
  },
  {
   "cell_type": "code",
   "execution_count": 6,
   "metadata": {},
   "outputs": [
    {
     "name": "stdout",
     "output_type": "stream",
     "text": [
      "The Mean squared error is 250.814\n",
      "The Mean absolute error is 12.312\n"
     ]
    }
   ],
   "source": [
    "# 執行 Function, 確認有沒有正常執行\n",
    "MSE = mean_squared_error(y, y_hat)\n",
    "MAE = mean_absolute_error(y, y_hat)\n",
    "print(\"The Mean squared error is %.3f\" % (MSE))\n",
    "print(\"The Mean absolute error is %.3f\" % (MAE))"
   ]
  }
 ],
 "metadata": {
  "anaconda-cloud": {},
  "kernelspec": {
   "display_name": "Python 3",
   "language": "python",
   "name": "python3"
  },
  "language_info": {
   "codemirror_mode": {
    "name": "ipython",
    "version": 3
   },
   "file_extension": ".py",
   "mimetype": "text/x-python",
   "name": "python",
   "nbconvert_exporter": "python",
   "pygments_lexer": "ipython3",
   "version": "3.6.5"
  }
 },
 "nbformat": 4,
 "nbformat_minor": 1
}
