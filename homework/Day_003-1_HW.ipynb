{
 "cells": [
  {
   "cell_type": "markdown",
   "metadata": {},
   "source": [
    "## 練習時間\n",
    "在小量的資料上，我們用眼睛就可以看得出來程式碼是否有跑出我們理想中的結果\n",
    "\n",
    "請嘗試想像一個你需要的資料結構 (裡面的值可以是隨機的)，然後用上述的方法把它變成 pandas DataFrame\n",
    "\n",
    "#### Ex: 想像一個 dataframe 有兩個欄位，一個是國家，一個是人口，求人口數最多的國家\n",
    "\n",
    "### Hints: [隨機產生數值](https://blog.csdn.net/christianashannon/article/details/78867204)"
   ]
  },
  {
   "cell_type": "code",
   "execution_count": 1,
   "metadata": {},
   "outputs": [],
   "source": [
    "import pandas as pd\n",
    "import numpy as np"
   ]
  },
  {
   "cell_type": "code",
   "execution_count": 10,
   "metadata": {},
   "outputs": [
    {
     "name": "stdout",
     "output_type": "stream",
     "text": [
      "[976319569 404451081 668043030 848929244  64207536 245182902 148162743\n",
      " 323885003 277090676  89902354]\n",
      "  國家         人口\n",
      "0  A  726794306\n",
      "1  B  180257602\n",
      "2  C  957299405\n",
      "3  D  484403907\n",
      "4  E  307523164\n",
      "5  F  511539638\n",
      "6  G  667584405\n",
      "7  H  825202892\n",
      "8  I  927063806\n",
      "9  J  937147756\n"
     ]
    }
   ],
   "source": [
    "r1=np.random.randint(1000000000,size=10)\n",
    "print(r1)\n",
    "data = {'國家': ['A','B','C','D','E','F','G','H','I','J'] ,\n",
    "        '人口': r1 }\n",
    "data = pd.DataFrame()\n",
    "\n",
    "country = ['A','B','C','D','E','F','G','H','I','J']\n",
    "number = np.random.randint(1000000000,size=10)\n",
    "\n",
    "list_labels = ['國家', '人口']\n",
    "list_cols = [country, number]\n",
    "\n",
    "list_data = list(zip(list_labels, list_cols))\n",
    "\n",
    "data = pd.DataFrame(dict(list_data))\n",
    "print(data)"
   ]
  },
  {
   "cell_type": "code",
   "execution_count": 15,
   "metadata": {},
   "outputs": [
    {
     "data": {
      "text/plain": [
       "國家            C\n",
       "人口    957299405\n",
       "Name: 2, dtype: object"
      ]
     },
     "execution_count": 15,
     "metadata": {},
     "output_type": "execute_result"
    }
   ],
   "source": [
    "data.iloc[data['人口'].idxmax()]"
   ]
  }
 ],
 "metadata": {
  "kernelspec": {
   "display_name": "Python 3",
   "language": "python",
   "name": "python3"
  },
  "language_info": {
   "codemirror_mode": {
    "name": "ipython",
    "version": 3
   },
   "file_extension": ".py",
   "mimetype": "text/x-python",
   "name": "python",
   "nbconvert_exporter": "python",
   "pygments_lexer": "ipython3",
   "version": "3.7.3"
  }
 },
 "nbformat": 4,
 "nbformat_minor": 2
}
